{
  "nbformat": 4,
  "nbformat_minor": 0,
  "metadata": {
    "colab": {
      "provenance": []
    },
    "kernelspec": {
      "name": "python3",
      "display_name": "Python 3"
    },
    "language_info": {
      "name": "python"
    }
  },
  "cells": [
    {
      "cell_type": "code",
      "execution_count": null,
      "metadata": {
        "id": "KTw46rWyeWPx"
      },
      "outputs": [],
      "source": [
        "import pandas as pd\n",
        "from math import sqrt\n",
        "import numpy as np\n"
      ]
    },
    {
      "cell_type": "code",
      "source": [
        "music_df = pd.read_table('artists.dat')\n",
        "ratings_df = pd.read_table('user_artists.dat')\n",
        "print(music_df.info())\n",
        "print(ratings_df.info())"
      ],
      "metadata": {
        "colab": {
          "base_uri": "https://localhost:8080/"
        },
        "id": "DkDxwMgleeZB",
        "outputId": "a9747993-37b1-4d6e-a4d0-8936cf2aea68"
      },
      "execution_count": null,
      "outputs": [
        {
          "output_type": "stream",
          "name": "stdout",
          "text": [
            "<class 'pandas.core.frame.DataFrame'>\n",
            "RangeIndex: 17632 entries, 0 to 17631\n",
            "Data columns (total 4 columns):\n",
            " #   Column      Non-Null Count  Dtype \n",
            "---  ------      --------------  ----- \n",
            " 0   id          17632 non-null  int64 \n",
            " 1   name        17632 non-null  object\n",
            " 2   url         17632 non-null  object\n",
            " 3   pictureURL  17188 non-null  object\n",
            "dtypes: int64(1), object(3)\n",
            "memory usage: 551.1+ KB\n",
            "None\n",
            "<class 'pandas.core.frame.DataFrame'>\n",
            "RangeIndex: 92834 entries, 0 to 92833\n",
            "Data columns (total 3 columns):\n",
            " #   Column    Non-Null Count  Dtype\n",
            "---  ------    --------------  -----\n",
            " 0   userID    92834 non-null  int64\n",
            " 1   artistID  92834 non-null  int64\n",
            " 2   weight    92834 non-null  int64\n",
            "dtypes: int64(3)\n",
            "memory usage: 2.1 MB\n",
            "None\n"
          ]
        }
      ]
    },
    {
      "cell_type": "code",
      "source": [
        "userInput = [{'name':'Daft Punk', 'rating':5},\n",
        "             {'name':'Kanye West', 'rating':1},\n",
        "             {'name':'Chris Brown', 'rating':1},\n",
        "             {'name':'Jonas Brothers', 'rating':5},\n",
        "             {'name':'Coldplay', 'rating':4.5}]\n",
        "inputMusics = pd.DataFrame(userInput)\n",
        "print(inputMusics)"
      ],
      "metadata": {
        "colab": {
          "base_uri": "https://localhost:8080/"
        },
        "id": "iXiuLxZ_78Oi",
        "outputId": "2e4cc6c7-b9c6-451b-b6b1-f033d1717ec2"
      },
      "execution_count": null,
      "outputs": [
        {
          "output_type": "stream",
          "name": "stdout",
          "text": [
            "             name  rating\n",
            "0       Daft Punk     5.0\n",
            "1      Kanye West     1.0\n",
            "2     Chris Brown     1.0\n",
            "3  Jonas Brothers     5.0\n",
            "4        Coldplay     4.5\n"
          ]
        }
      ]
    },
    {
      "cell_type": "code",
      "source": [
        "inputId = music_df[music_df['name'].isin(inputMusics['name'].tolist())]\n",
        "inputMusics = pd.merge(inputId, inputMusics)\n",
        "inputMusics = inputMusics.drop('pictureURL', 1) #we don't really need this at the moment\n",
        "inputMusics = inputMusics[['id','name','rating']]\n",
        "print(inputMusics)"
      ],
      "metadata": {
        "colab": {
          "base_uri": "https://localhost:8080/"
        },
        "id": "BhziCYvK78ud",
        "outputId": "b446ba6d-f139-4647-ecba-1f6f2c9b0eb5"
      },
      "execution_count": null,
      "outputs": [
        {
          "output_type": "stream",
          "name": "stdout",
          "text": [
            "    id            name  rating\n",
            "0   56       Daft Punk     5.0\n",
            "1   65        Coldplay     4.5\n",
            "2  321  Jonas Brothers     5.0\n",
            "3  327     Chris Brown     1.0\n",
            "4  331      Kanye West     1.0\n"
          ]
        },
        {
          "output_type": "stream",
          "name": "stderr",
          "text": [
            "<ipython-input-48-f9bc54bea6e5>:3: FutureWarning: In a future version of pandas all arguments of DataFrame.drop except for the argument 'labels' will be keyword-only\n",
            "  inputMusics = inputMusics.drop('pictureURL', 1) #we don't really need this at the moment\n"
          ]
        }
      ]
    },
    {
      "cell_type": "code",
      "source": [
        "userSubset = ratings_df[ratings_df['artistID'].isin(inputMusics['id'].tolist())]\n",
        "print(userSubset.groupby('artistID').count())"
      ],
      "metadata": {
        "colab": {
          "base_uri": "https://localhost:8080/"
        },
        "id": "Az75enFW8AwO",
        "outputId": "4b342e04-cf2d-44e8-a93d-03837175ce3c"
      },
      "execution_count": null,
      "outputs": [
        {
          "output_type": "stream",
          "name": "stdout",
          "text": [
            "          userID  weight\n",
            "artistID                \n",
            "56           151     151\n",
            "65           369     369\n",
            "321           82      82\n",
            "327           79      79\n",
            "331          134     134\n"
          ]
        }
      ]
    },
    {
      "cell_type": "code",
      "source": [
        "#Groupby creates several sub dataframes where they all have the same value in the column specified as the parameter\n",
        "userSubsetGroup = userSubset.groupby(['userID'])\n",
        "\n",
        "def take_5_elem(x):\n",
        "    # print (len(x[1]))\n",
        "    return len(x[1])\n",
        "    \n",
        "\n",
        "#Sorting it so users with movie most in common with the input will have priority\n",
        "userSubsetGroup = sorted(userSubsetGroup, key=take_5_elem, reverse=True)\n",
        "\n",
        "userSubsetGroup = userSubsetGroup[0:100]\n",
        "print(userSubsetGroup[0:5])"
      ],
      "metadata": {
        "colab": {
          "base_uri": "https://localhost:8080/"
        },
        "id": "ScO2nDmn8CgJ",
        "outputId": "30566583-eb8a-4140-a8b1-484102e9f0fb"
      },
      "execution_count": null,
      "outputs": [
        {
          "output_type": "stream",
          "name": "stdout",
          "text": [
            "[(905,        userID  artistID  weight\n",
            "41002     905        65     369\n",
            "41018     905       321     112\n",
            "41019     905       327     115\n",
            "41021     905       331     761), (1053,        userID  artistID  weight\n",
            "47391    1053        56     144\n",
            "47392    1053        65     221\n",
            "47407    1053       327     180\n",
            "47409    1053       331     448), (7,      userID  artistID  weight\n",
            "287       7       321     674\n",
            "293       7       327     587\n",
            "297       7       331     516), (43,       userID  artistID  weight\n",
            "1965      43        56    2691\n",
            "1968      43        65     635\n",
            "1986      43       331     133), (120,       userID  artistID  weight\n",
            "5665     120        65      48\n",
            "5679     120       327     144\n",
            "5680     120       331      26)]\n"
          ]
        }
      ]
    },
    {
      "cell_type": "code",
      "source": [
        "#Store the Pearson Correlation in a dictionary, where the key is the user Id and the value is the coefficient\n",
        "pearsonCorrelationDict = {}\n",
        "\n",
        "#For every user group in our subset\n",
        "for name, group in userSubsetGroup:\n",
        "\n",
        "    #Let's start by sorting the input and current user group so the values aren't mixed up later on\n",
        "    group = group.sort_values(by='artistID')\n",
        "    inputMusics = inputMusics.sort_values(by='id')\n",
        "\n",
        "    #Get the N for the formula\n",
        "    nRatings = len(group)\n",
        "\n",
        "    #Get the review scores for the movies that they both have in common\n",
        "    temp_df = inputMusics[inputMusics['id'].isin(group['artistID'].tolist())]\n",
        "\n",
        "    #And then store them in a temporary buffer variable in a list format to facilitate future calculations\n",
        "    tempRatingList = temp_df['rating'].tolist()\n",
        "   \n",
        "    #Let's also put the current user group reviews in a list format\n",
        "    tempGroupList = group['weight'].tolist()\n",
        "   \n",
        "    \n",
        "    #Now let's calculate the pearson correlation between two users, so called, x and y manually (check the formula from week 7 slide)\n",
        "    Sxx = sum([i**2 for i in tempRatingList]) - pow(sum(tempRatingList),2)/float(nRatings)\n",
        "    Syy = sum([i**2 for i in tempGroupList]) - pow(sum(tempGroupList),2)/float(nRatings)\n",
        "    Sxy = sum( i*j for i, j in zip(tempRatingList, tempGroupList)) - sum(tempRatingList)*sum(tempGroupList)/float(nRatings)\n",
        "\n",
        "    #If the denominator is different than zero, then divide, else, 0 correlation.\n",
        "    if Sxx != 0 and Syy != 0:\n",
        "        pearsonCorrelationDict[name] = Sxy/sqrt(Sxx*Syy)\n",
        "    else:\n",
        "        pearsonCorrelationDict[name] = 0\n",
        "    "
      ],
      "metadata": {
        "id": "a5PsdcOW8E3c"
      },
      "execution_count": null,
      "outputs": []
    },
    {
      "cell_type": "code",
      "source": [
        "pearsonDF = pd.DataFrame.from_dict(pearsonCorrelationDict, orient='index')\n",
        "pearsonDF.columns = ['similarityIndex']\n",
        "pearsonDF['userID'] = pearsonDF.index\n",
        "pearsonDF.index = range(len(pearsonDF))\n",
        "print(pearsonDF.head())"
      ],
      "metadata": {
        "colab": {
          "base_uri": "https://localhost:8080/"
        },
        "id": "jN_OoX2L8FZc",
        "outputId": "9bccaf2e-da74-49f0-be68-14f890318036"
      },
      "execution_count": null,
      "outputs": [
        {
          "output_type": "stream",
          "name": "stdout",
          "text": [
            "   similarityIndex  userID\n",
            "0        -0.403332     905\n",
            "1        -0.573968    1053\n",
            "2         0.893732       7\n",
            "3         0.734427      43\n",
            "4        -0.340440     120\n"
          ]
        }
      ]
    },
    {
      "cell_type": "code",
      "source": [
        "topUsers=pearsonDF.sort_values(by='similarityIndex', ascending=False)[0:50]\n",
        "print(topUsers.head())"
      ],
      "metadata": {
        "colab": {
          "base_uri": "https://localhost:8080/"
        },
        "id": "JYpb4Zcy8V7p",
        "outputId": "d54bff99-52f6-4310-b344-1a4537c2874e"
      },
      "execution_count": null,
      "outputs": [
        {
          "output_type": "stream",
          "name": "stdout",
          "text": [
            "    similarityIndex  userID\n",
            "50              1.0     413\n",
            "23              1.0       2\n",
            "79              1.0    1012\n",
            "58              1.0     496\n",
            "29              1.0     100\n"
          ]
        }
      ]
    },
    {
      "cell_type": "code",
      "source": [
        "\n",
        "topUsersRating=topUsers.merge(ratings_df, left_on='userID', right_on='userID', how='inner')\n",
        "print(topUsersRating.head(100))"
      ],
      "metadata": {
        "colab": {
          "base_uri": "https://localhost:8080/"
        },
        "id": "vuHvLG9-8Yj9",
        "outputId": "5afaf512-6fd5-4388-bb2b-b82f12fd015a"
      },
      "execution_count": null,
      "outputs": [
        {
          "output_type": "stream",
          "name": "stdout",
          "text": [
            "     similarityIndex  userID  artistID  weight\n",
            "95               1.0       2        96    1342\n",
            "96               1.0       2        97    1337\n",
            "97               1.0       2        98    1332\n",
            "98               1.0       2        99    1330\n",
            "99               1.0       2       100    1315\n",
            "100              1.0    1012         7     149\n",
            "101              1.0    1012        45     547\n",
            "102              1.0    1012        56      99\n",
            "103              1.0    1012       173     134\n",
            "104              1.0    1012       190    1442\n"
          ]
        }
      ]
    },
    {
      "cell_type": "code",
      "source": [
        "#Applies a sum to the topUsers after grouping it up by movieId\n",
        "tempTopUsersRating = topUsersRating.groupby('artistID').sum()[['similarityIndex','weight']]\n",
        "tempTopUsersRating.columns = ['sum_similarityIndex','sum_weightedRating']\n",
        "print(tempTopUsersRating.head())"
      ],
      "metadata": {
        "colab": {
          "base_uri": "https://localhost:8080/"
        },
        "id": "rOIOeYQU8aaa",
        "outputId": "f533ddd6-91f9-484a-f92e-06409ad3c2cb"
      },
      "execution_count": null,
      "outputs": [
        {
          "output_type": "stream",
          "name": "stdout",
          "text": [
            "          sum_similarityIndex  sum_weightedRating\n",
            "artistID                                         \n",
            "6                         1.0                  95\n",
            "7                         2.0                 546\n",
            "9                         2.0                 263\n",
            "16                        1.0                  88\n",
            "30                        2.0                6918\n"
          ]
        }
      ]
    },
    {
      "cell_type": "code",
      "source": [
        "\n",
        "#Creates an empty dataframe\n",
        "recommendation_df = pd.DataFrame()\n",
        "\n",
        "#Now we take the weighted average\n",
        "recommendation_df['weighted average recommendation score'] = tempTopUsersRating['sum_weightedRating']/tempTopUsersRating['sum_similarityIndex']\n",
        "recommendation_df['artistID'] = tempTopUsersRating.index\n",
        "print(recommendation_df.head(10))"
      ],
      "metadata": {
        "colab": {
          "base_uri": "https://localhost:8080/"
        },
        "id": "GK0YHq9B8dbj",
        "outputId": "aaf4df90-5beb-434a-f124-723e139fa30e"
      },
      "execution_count": null,
      "outputs": [
        {
          "output_type": "stream",
          "name": "stdout",
          "text": [
            "          weighted average recommendation score  artistID\n",
            "artistID                                                 \n",
            "6                                          95.0         6\n",
            "7                                         273.0         7\n",
            "9                                         131.5         9\n",
            "16                                         88.0        16\n",
            "30                                       3459.0        30\n",
            "39                                         89.0        39\n",
            "45                                        547.0        45\n",
            "46                                         50.0        46\n",
            "51                                       7005.5        51\n",
            "52                                      11690.0        52\n"
          ]
        }
      ]
    },
    {
      "cell_type": "code",
      "source": [
        "recommendation_df = recommendation_df.sort_values(by='weighted average recommendation score', ascending=False)\n",
        "print(recommendation_df)"
      ],
      "metadata": {
        "colab": {
          "base_uri": "https://localhost:8080/"
        },
        "id": "_hiBktAC8f8z",
        "outputId": "c8cefafe-c40d-4613-af0e-28078cde86aa"
      },
      "execution_count": null,
      "outputs": [
        {
          "output_type": "stream",
          "name": "stdout",
          "text": [
            "          weighted average recommendation score  artistID\n",
            "artistID                                                 \n",
            "6619                                        inf      6619\n",
            "11934                                       inf     11934\n",
            "13296                                       inf     13296\n",
            "13292                                       inf     13292\n",
            "9391                                        inf      9391\n",
            "...                                         ...       ...\n",
            "13724                                  5.000000     13724\n",
            "8555                                   5.000000      8555\n",
            "3176                                   4.579945      3176\n",
            "4753                                   4.579945      4753\n",
            "16048                                  4.579945     16048\n",
            "\n",
            "[1145 rows x 2 columns]\n"
          ]
        }
      ]
    },
    {
      "cell_type": "code",
      "source": [
        "recommended_artist=music_df.loc[music_df['id'].isin(recommendation_df['artistID'])]\n",
        "\n",
        "#we don't want to recommend the same movie\n",
        "recommended_artist=recommended_artist.loc[~recommended_artist.id.isin(userSubset['artistID'])]\n",
        "\n",
        "print(recommended_artist)"
      ],
      "metadata": {
        "colab": {
          "base_uri": "https://localhost:8080/"
        },
        "id": "Pt-zQuwO8i5H",
        "outputId": "bac95648-5463-4e02-e468-158fb16829a8"
      },
      "execution_count": null,
      "outputs": [
        {
          "output_type": "stream",
          "name": "stdout",
          "text": [
            "          id                    name  \\\n",
            "5          6               Moonspell   \n",
            "6          7          Marilyn Manson   \n",
            "8          9             Combichrist   \n",
            "14        16   London After Midnight   \n",
            "27        30                 And One   \n",
            "...      ...                     ...   \n",
            "15246  16044  ShababGamed(Wama4love)   \n",
            "15247  16045                Steadman   \n",
            "15248  16046   Cavaleiros do Zodíaco   \n",
            "15249  16047            Paulo Miklos   \n",
            "15250  16048                  Santos   \n",
            "\n",
            "                                                     url  \\\n",
            "5                     http://www.last.fm/music/Moonspell   \n",
            "6                http://www.last.fm/music/Marilyn+Manson   \n",
            "8                   http://www.last.fm/music/Combichrist   \n",
            "14        http://www.last.fm/music/London+After+Midnight   \n",
            "27                      http://www.last.fm/music/And+One   \n",
            "...                                                  ...   \n",
            "15246  http://www.last.fm/music/ShababGamed%28Wama4lo...   \n",
            "15247                  http://www.last.fm/music/Steadman   \n",
            "15248  http://www.last.fm/music/Cavaleiros+do+Zod%C3%...   \n",
            "15249              http://www.last.fm/music/Paulo+Miklos   \n",
            "15250                    http://www.last.fm/music/Santos   \n",
            "\n",
            "                                              pictureURL  \n",
            "5      http://userserve-ak.last.fm/serve/252/2181591.jpg  \n",
            "6      http://userserve-ak.last.fm/serve/252/2558217.jpg  \n",
            "8      http://userserve-ak.last.fm/serve/252/51273485...  \n",
            "14     http://userserve-ak.last.fm/serve/252/5364091.jpg  \n",
            "27     http://userserve-ak.last.fm/serve/252/50818861...  \n",
            "...                                                  ...  \n",
            "15246  http://userserve-ak.last.fm/serve/252/15711093...  \n",
            "15247   http://userserve-ak.last.fm/serve/252/357240.jpg  \n",
            "15248  http://userserve-ak.last.fm/serve/252/4855281.jpg  \n",
            "15249   http://userserve-ak.last.fm/serve/252/296461.jpg  \n",
            "15250   http://userserve-ak.last.fm/serve/252/465633.jpg  \n",
            "\n",
            "[1140 rows x 4 columns]\n"
          ]
        }
      ]
    }
  ]
}